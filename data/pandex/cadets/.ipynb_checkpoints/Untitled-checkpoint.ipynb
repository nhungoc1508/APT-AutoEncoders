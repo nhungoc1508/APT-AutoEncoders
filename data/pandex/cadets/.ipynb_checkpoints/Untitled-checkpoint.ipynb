{
 "cells": [
  {
   "cell_type": "code",
   "execution_count": 1,
   "id": "65319912",
   "metadata": {},
   "outputs": [],
   "source": [
    "import pandas as pd"
   ]
  },
  {
   "cell_type": "code",
   "execution_count": 6,
   "id": "3f3c0e95",
   "metadata": {},
   "outputs": [],
   "source": [
    "df0 = pd.read_csv('cadets_pandex_drakon1.csv')\n",
    "df1 = pd.read_csv('cadets_pandex_drakon2.csv')\n",
    "df2 = pd.read_csv('cadets_pandex_webshell.csv')"
   ]
  },
  {
   "cell_type": "code",
   "execution_count": 8,
   "id": "0cd4607d",
   "metadata": {},
   "outputs": [
    {
     "data": {
      "text/plain": [
       "((50, 2), (52, 2), (275, 2))"
      ]
     },
     "execution_count": 8,
     "metadata": {},
     "output_type": "execute_result"
    }
   ],
   "source": [
    "df0.shape, df1.shape, df2.shape"
   ]
  },
  {
   "cell_type": "code",
   "execution_count": 7,
   "id": "90f3f500",
   "metadata": {},
   "outputs": [
    {
     "data": {
      "text/plain": [
       "(377, 2)"
      ]
     },
     "execution_count": 7,
     "metadata": {},
     "output_type": "execute_result"
    }
   ],
   "source": [
    "df = pd.concat([df0, df1, df2])\n",
    "df.shape"
   ]
  },
  {
   "cell_type": "code",
   "execution_count": 12,
   "id": "0896e10d",
   "metadata": {},
   "outputs": [],
   "source": [
    "df.to_csv('cadets_pandex_merged.csv', index=0)"
   ]
  },
  {
   "cell_type": "code",
   "execution_count": 13,
   "id": "beb5c7e0",
   "metadata": {},
   "outputs": [
    {
     "data": {
      "text/plain": [
       "(377, 2)"
      ]
     },
     "execution_count": 13,
     "metadata": {},
     "output_type": "execute_result"
    }
   ],
   "source": [
    "df_sample = pd.read_csv('../../../baseline/edi/sample/cadets_pandex_merged.csv')\n",
    "df_sample.shape"
   ]
  },
  {
   "cell_type": "code",
   "execution_count": 14,
   "id": "44fea7a6",
   "metadata": {},
   "outputs": [
    {
     "data": {
      "text/plain": [
       "(76903, 30)"
      ]
     },
     "execution_count": 14,
     "metadata": {},
     "output_type": "execute_result"
    }
   ],
   "source": [
    "process = pd.read_csv('ProcessEvent.csv')\n",
    "process.shape"
   ]
  },
  {
   "cell_type": "code",
   "execution_count": null,
   "id": "f13b72a0",
   "metadata": {},
   "outputs": [],
   "source": []
  }
 ],
 "metadata": {
  "kernelspec": {
   "display_name": "Python 3 (ipykernel)",
   "language": "python",
   "name": "python3"
  },
  "language_info": {
   "codemirror_mode": {
    "name": "ipython",
    "version": 3
   },
   "file_extension": ".py",
   "mimetype": "text/x-python",
   "name": "python",
   "nbconvert_exporter": "python",
   "pygments_lexer": "ipython3",
   "version": "3.8.13"
  }
 },
 "nbformat": 4,
 "nbformat_minor": 5
}
